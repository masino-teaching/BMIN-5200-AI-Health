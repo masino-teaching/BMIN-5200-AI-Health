{
  "nbformat": 4,
  "nbformat_minor": 0,
  "metadata": {
    "colab": {
      "provenance": []
    },
    "kernelspec": {
      "name": "python3",
      "display_name": "Python 3"
    },
    "language_info": {
      "name": "python"
    }
  },
  "cells": [
    {
      "cell_type": "code",
      "execution_count": 1,
      "metadata": {
        "colab": {
          "base_uri": "https://localhost:8080/"
        },
        "id": "2hSkunr-8cAA",
        "outputId": "2d6c071d-fba3-4fa2-f2f7-fc3b0366799c"
      },
      "outputs": [
        {
          "output_type": "stream",
          "name": "stdout",
          "text": [
            "Mounted at /content/drive\n"
          ]
        }
      ],
      "source": [
        "# mount the google drive\n",
        "from google.colab import drive\n",
        "drive.mount(\"/content/drive\")"
      ]
    },
    {
      "cell_type": "code",
      "source": [
        "# create BMIN-5200 virtualenv with required packages\n",
        "\n",
        "# Step 1. Install virtualenv\n",
        "!pip install virtualenv\n",
        "\n",
        "# Step 2. Create a persisted virtualenv in your Google Drive\n",
        "!virtualenv \"/content/drive/MyDrive/Colab Notebooks/envs/bmin5200\""
      ],
      "metadata": {
        "id": "cNxewN53AnTZ",
        "colab": {
          "base_uri": "https://localhost:8080/"
        },
        "outputId": "01446b73-7bd3-4720-ed6d-fc6cafac8fe6"
      },
      "execution_count": null,
      "outputs": [
        {
          "output_type": "stream",
          "name": "stdout",
          "text": [
            "Requirement already satisfied: virtualenv in /usr/local/lib/python3.10/dist-packages (20.24.2)\n",
            "Requirement already satisfied: distlib<1,>=0.3.7 in /usr/local/lib/python3.10/dist-packages (from virtualenv) (0.3.7)\n",
            "Requirement already satisfied: filelock<4,>=3.12.2 in /usr/local/lib/python3.10/dist-packages (from virtualenv) (3.12.2)\n",
            "Requirement already satisfied: platformdirs<4,>=3.9.1 in /usr/local/lib/python3.10/dist-packages (from virtualenv) (3.9.1)\n",
            "created virtual environment CPython3.10.6.final.0-64 in 10490ms\n",
            "  creator CPython3Posix(dest=/content/drive/MyDrive/Colab Notebooks/envs/bmin5200, clear=False, no_vcs_ignore=False, global=False)\n",
            "  seeder FromAppData(download=False, pip=bundle, setuptools=bundle, wheel=bundle, via=copy, app_data_dir=/root/.local/share/virtualenv)\n",
            "    added seed packages: pip==23.2.1, setuptools==68.0.0, wheel==0.41.0\n",
            "  activators BashActivator,CShellActivator,FishActivator,NushellActivator,PowerShellActivator,PythonActivator\n"
          ]
        }
      ]
    },
    {
      "cell_type": "code",
      "source": [
        "# activate the environment (this is necessary in every notebook)\n",
        "!source \"/content/drive/MyDrive/Colab Notebooks/envs/bmin5200/bin/activate\"; pip install Pypdf"
      ],
      "metadata": {
        "id": "sCEoU9m--DNx",
        "colab": {
          "base_uri": "https://localhost:8080/"
        },
        "outputId": "148575fe-9655-48a6-84fc-dc2ad4239d7b"
      },
      "execution_count": null,
      "outputs": [
        {
          "output_type": "stream",
          "name": "stdout",
          "text": [
            "Collecting Pypdf\n",
            "  Obtaining dependency information for Pypdf from https://files.pythonhosted.org/packages/f0/85/4b93fed57763cd685b6da4cb43b03e3abe2208c3bb12d6775039f27a4019/pypdf-3.13.0-py3-none-any.whl.metadata\n",
            "  Downloading pypdf-3.13.0-py3-none-any.whl.metadata (6.8 kB)\n",
            "Using cached pypdf-3.13.0-py3-none-any.whl (256 kB)\n",
            "Installing collected packages: Pypdf\n",
            "Successfully installed Pypdf-3.13.0\n"
          ]
        }
      ]
    },
    {
      "cell_type": "code",
      "source": [
        "import sys\n",
        "sys.path.append(\"/content/drive/MyDrive/Colab Notebooks/envs/bmin5200/lib/python3.10/site-packages\")"
      ],
      "metadata": {
        "id": "G9f3DMU1JDWy"
      },
      "execution_count": 2,
      "outputs": []
    },
    {
      "cell_type": "code",
      "source": [
        "from pypdf import PdfReader"
      ],
      "metadata": {
        "id": "AQG7tB7D-D5y"
      },
      "execution_count": 3,
      "outputs": []
    },
    {
      "cell_type": "code",
      "source": [],
      "metadata": {
        "id": "X1PMrvLm-q6H"
      },
      "execution_count": null,
      "outputs": []
    }
  ]
}
