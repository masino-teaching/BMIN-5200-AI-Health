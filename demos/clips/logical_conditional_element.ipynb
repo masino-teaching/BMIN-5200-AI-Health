{
 "cells": [
  {
   "cell_type": "code",
   "execution_count": null,
   "metadata": {},
   "outputs": [],
   "source": [
    "import clips\n",
    "import sys\n",
    "sys.path.append('../../src/')\n",
    "from clips_util import print_facts, print_rules, print_templates"
   ]
  },
  {
   "cell_type": "markdown",
   "metadata": {},
   "source": [
    "# Logical Conditional Element\n",
    "\n",
    "In this example, we'll see the effects of using the _logical conditional element_ (LCE) on fact maintenance. Briefly, facts generated on the right hand side of defrules in which portions of the left hand side are surrounded by `logical` will be removed if the truth (aka support) of those portions is changed."
   ]
  },
  {
   "cell_type": "code",
   "execution_count": null,
   "metadata": {},
   "outputs": [],
   "source": [
    "# create the CLIPS environment\n",
    "env = clips.Environment()"
   ]
  },
  {
   "cell_type": "code",
   "execution_count": null,
   "metadata": {},
   "outputs": [],
   "source": [
    "env.clear()\n",
    "\n",
    "# Create patient template\n",
    "DEFTEMPLATE_PATIENT = \"\"\"\n",
    "(deftemplate patient\n",
    "   (slot abdominal_pain)\n",
    "   (slot nausea)\n",
    "   (slot vomiting)\n",
    "   (slot white_blood_count (type INTEGER)))\n",
    "\"\"\"\n",
    "\n",
    "# Create action template\n",
    "DEFTEMPLATE_ACTION = \"\"\"\n",
    "(deftemplate action\n",
    "   (slot disposition))\n",
    "\n",
    "\"\"\"\n",
    "\n",
    "env.build(DEFTEMPLATE_PATIENT)\n",
    "env.build(DEFTEMPLATE_ACTION)\n",
    "\n",
    "# create a patient fact\n",
    "patient_template = env.find_template('patient')\n",
    "patient = patient_template.assert_fact(abdominal_pain = 'yes', \n",
    "                                       nausea = 'yes',\n",
    "                                       vomiting = 'yes')\n",
    "\n",
    "############ defrule without logical conditional element\n",
    "DEFRULE_DIAGNOSE = \"\"\"\n",
    "(defrule diagnose\n",
    "   (patient (abdominal_pain \"yes\")(nausea \"yes\")(vomiting \"yes\"))\n",
    " =>\n",
    "   (println \"suspect appendicitis\")\n",
    "   (assert(action(disposition \"admit\"))))\n",
    "\"\"\"\n",
    "\n",
    "env.build(DEFRULE_DIAGNOSE)\n",
    "####################################################\n",
    "\n",
    "############# defrule with logical\n",
    "## To try this version, comment out the version above and uncomment the version below including the admit rule\n",
    "## Notice the logical conditional element in the diagnose rule\n",
    "## This will chain the support (patient) to the new fact (action)\n",
    "## Now, if the patient fact is retracted, the action fact will also be retracted\n",
    "\n",
    "# DEFRULE_DIAGNOSE = \"\"\"\n",
    "# (defrule diagnose\n",
    "#    (logical (patient (abdominal_pain \"yes\")(nausea \"yes\")(vomiting \"yes\")))\n",
    "#  =>\n",
    "#    (println \"suspect appendicitis\" )\n",
    "#    (assert(action(disposition \"admit\"))))\n",
    "# \"\"\"\n",
    "\n",
    "# DEFRULE_ADMIT = \"\"\"\n",
    "# (defrule admit\n",
    "#    (action(disposition \"admit\"))\n",
    "#  =>\n",
    "#    (println \"find this patient a room!!!\"))\n",
    "# \"\"\"\n",
    "\n",
    "# env.build(DEFRULE_DIAGNOSE)\n",
    "# env.build(DEFRULE_ADMIT)\n",
    "####################################################\n",
    "\n",
    "env.run()"
   ]
  },
  {
   "cell_type": "code",
   "execution_count": null,
   "metadata": {},
   "outputs": [],
   "source": [
    "# with either version of the defrules above, there will be two facts \n",
    "print_facts(env)"
   ]
  },
  {
   "cell_type": "code",
   "execution_count": null,
   "metadata": {},
   "outputs": [],
   "source": [
    "# retract the patient fact\n",
    "# using the first version of the defules, the action fact will remain\n",
    "# using the second version of the defules, the action fact will be automatically removed b/c the patient support has been\n",
    "# retracted\n",
    "patient.retract()\n",
    "print_facts(env)"
   ]
  }
 ],
 "metadata": {
  "kernelspec": {
   "display_name": "bmin5200",
   "language": "python",
   "name": "python3"
  },
  "language_info": {
   "codemirror_mode": {
    "name": "ipython",
    "version": 3
   },
   "file_extension": ".py",
   "mimetype": "text/x-python",
   "name": "python",
   "nbconvert_exporter": "python",
   "pygments_lexer": "ipython3",
   "version": "3.10.12"
  },
  "orig_nbformat": 4
 },
 "nbformat": 4,
 "nbformat_minor": 2
}
