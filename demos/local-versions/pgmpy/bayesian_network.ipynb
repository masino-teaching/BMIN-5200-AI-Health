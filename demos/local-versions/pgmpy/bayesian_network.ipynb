{
 "cells": [
  {
   "cell_type": "code",
   "execution_count": null,
   "metadata": {},
   "outputs": [],
   "source": [
    "from pgmpy.models import BayesianNetwork\n",
    "from pgmpy.factors.discrete import TabularCPD\n",
    "from pgmpy.inference import VariableElimination\n",
    "import sys\n",
    "sys.path.append('../../../src/')\n",
    "from util import directed_graph_from_list, draw_graph"
   ]
  },
  {
   "cell_type": "markdown",
   "metadata": {},
   "source": [
    "This cell illustrates the Bayesian network model constructed in the following cell using pgmpy\n",
    "Notice that the edges are directed\n",
    "\n",
    "<image src=\"../../../resources/Demo-pgmpy-BN-01.png\" style=\"background-color:white\" width=30%//>"
   ]
  },
  {
   "cell_type": "code",
   "execution_count": null,
   "metadata": {},
   "outputs": [],
   "source": [
    "# This cell implements the above Bayesian network using pgmpy\n",
    "\n",
    "# Defining the model structure. We can define the network by just passing a list of edges.\n",
    "model = BayesianNetwork([('D', 'G'), ('I', 'G'), ('G', 'L'), ('I', 'S')])\n",
    "\n",
    "# Defining individual CPDs.\n",
    "cpd_d = TabularCPD(variable='D', variable_card=2, values=[[0.6], [0.4]], state_names={'D': ['easy', 'hard']})\n",
    "cpd_i = TabularCPD(variable='I', variable_card=2, values=[[0.7], [0.3]], state_names={'I': ['no', 'yes']})\n",
    "\n",
    "# The representation of CPD in pgmpy is a bit different than the CPD shown in the above picture. In pgmpy the colums\n",
    "# are the evidences and rows are the states of the variable. So the grade CPD is represented like this:\n",
    "#\n",
    "#    +---------+---------+---------+---------+---------+\n",
    "#    | intel   | no      | no      | yes     | yes     |\n",
    "#    +---------+---------+---------+---------+---------+\n",
    "#    | diff    | easy    | hard    | easy    | hard    |\n",
    "#    +---------+---------+---------+---------+---------+\n",
    "#    | grade A | 0.3     | 0.05    | 0.9     | 0.5     |\n",
    "#    +---------+---------+---------+---------+---------+\n",
    "#    | grade B | 0.4     | 0.25    | 0.08    | 0.3     |\n",
    "#    +---------+---------+---------+---------+---------+\n",
    "#    | grade C | 0.3     | 0.7     | 0.02    | 0.2     |\n",
    "#    +---------+---------+---------+---------+---------+\n",
    "\n",
    "cpd_g = TabularCPD(variable='G', variable_card=3,\n",
    "                   values=[[0.3, 0.05, 0.9,  0.5],\n",
    "                           [0.4, 0.25, 0.08, 0.3],\n",
    "                           [0.3, 0.7,  0.02, 0.2]],\n",
    "                  evidence=['I', 'D'],\n",
    "                  evidence_card=[2, 2],\n",
    "                  state_names={'G': ['A', 'B', 'C'],\n",
    "                               'D': ['easy', 'hard'],\n",
    "                               'I': ['no', 'yes']})\n",
    "\n",
    "cpd_l = TabularCPD(variable='L', variable_card=2,\n",
    "                   values=[[0.1, 0.4, 0.99],\n",
    "                           [0.9, 0.6, 0.01]],\n",
    "                   evidence=['G'],\n",
    "                   evidence_card=[3],\n",
    "                   state_names={'L': ['bad', 'good'],\n",
    "                                'G': ['A', 'B', 'C']})\n",
    "\n",
    "cpd_s = TabularCPD(variable='S', variable_card=2,\n",
    "                   values=[[0.95, 0.2],\n",
    "                           [0.05, 0.8]],\n",
    "                   evidence=['I'],\n",
    "                   evidence_card=[2],\n",
    "                   state_names={'S': ['low', 'high'],\n",
    "                                'I': ['no', 'yes']})\n",
    "\n",
    "# Associating the CPDs with the network\n",
    "model.add_cpds(cpd_d, cpd_i, cpd_g, cpd_l, cpd_s)\n",
    "\n",
    "# check_model checks for the network structure and CPDs and verifies that the CPDs are correctly\n",
    "# defined and sum to 1.\n",
    "model.check_model()"
   ]
  },
  {
   "cell_type": "code",
   "execution_count": null,
   "metadata": {},
   "outputs": [],
   "source": [
    "# with the model created, we can examine independencies in the model\n",
    "model.local_independencies(['D', 'I', 'S', 'G', 'L'])"
   ]
  },
  {
   "cell_type": "code",
   "execution_count": null,
   "metadata": {},
   "outputs": [],
   "source": [
    "# we can also infer probabilities from the model\n",
    "# here we will use variable elimination \n",
    "infer = VariableElimination(model)\n",
    "\n",
    "# First let's infer the marginal probability of grade\n",
    "g_dist = infer.query(['G'])\n",
    "print(g_dist)\n"
   ]
  },
  {
   "cell_type": "code",
   "execution_count": null,
   "metadata": {},
   "outputs": [],
   "source": [
    "# Now let's infer intelligence given grade of C\n",
    "i_dist = infer.query(['I'], evidence={'G': 'C'})\n",
    "print(i_dist)"
   ]
  },
  {
   "cell_type": "code",
   "execution_count": null,
   "metadata": {},
   "outputs": [],
   "source": [
    "# what happens if we also observe that the difficulty is hard?\n",
    "i_dist = infer.query(['I'], evidence={'G': 'C', 'D': 'hard'})\n",
    "print(i_dist)"
   ]
  },
  {
   "cell_type": "code",
   "execution_count": null,
   "metadata": {},
   "outputs": [],
   "source": [
    "# what happens if we observe that the difficulty is hard and SAT is high?\n",
    "i_dist = infer.query(['I'], evidence={'G': 'C', 'D': 'hard', 'S': 'high'})\n",
    "print(i_dist)"
   ]
  },
  {
   "cell_type": "code",
   "execution_count": null,
   "metadata": {},
   "outputs": [],
   "source": []
  }
 ],
 "metadata": {
  "kernelspec": {
   "display_name": "bmin5200",
   "language": "python",
   "name": "python3"
  },
  "language_info": {
   "codemirror_mode": {
    "name": "ipython",
    "version": 3
   },
   "file_extension": ".py",
   "mimetype": "text/x-python",
   "name": "python",
   "nbconvert_exporter": "python",
   "pygments_lexer": "ipython3",
   "version": "3.10.12"
  },
  "orig_nbformat": 4
 },
 "nbformat": 4,
 "nbformat_minor": 2
}
