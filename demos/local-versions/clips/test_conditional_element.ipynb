{
 "cells": [
  {
   "cell_type": "code",
   "execution_count": null,
   "metadata": {},
   "outputs": [],
   "source": [
    "import clips\n",
    "import sys\n",
    "sys.path.append('../../../src/')\n",
    "from clips_util import print_facts, print_rules, print_templates"
   ]
  },
  {
   "cell_type": "markdown",
   "metadata": {},
   "source": [
    "# Test Conditional Element\n",
    "The test conditional element, `test`, can be used in defrules to test whether an object's slot values satisfy certain conditions before firing the rule."
   ]
  },
  {
   "cell_type": "code",
   "execution_count": null,
   "metadata": {},
   "outputs": [],
   "source": [
    "# create the CLIPS environment\n",
    "env = clips.Environment()"
   ]
  },
  {
   "cell_type": "code",
   "execution_count": null,
   "metadata": {},
   "outputs": [],
   "source": [
    "env.clear()\n",
    "\n",
    "# define the boat template\n",
    "DEFTEMPLATE_BOAT = \"\"\"\n",
    "(deftemplate boat\n",
    "   (slot name)\n",
    "   (slot type)\n",
    "   (slot length))\n",
    "\"\"\"\n",
    "env.build(DEFTEMPLATE_BOAT)\n",
    "\n",
    "# define find template - this will used to assert the \"fact\" that we are seeking boats with certain characteristics\n",
    "DEFTEMPLATE_FIND = \"\"\"\n",
    "(deftemplate find (slot type) (slot minlength))\n",
    "\"\"\"\n",
    "\n",
    "env.build(DEFTEMPLATE_FIND)\n",
    "\n",
    "# define the known boats for the knowledge base\n",
    "DEFFACT_BOATS = \"\"\"\n",
    "(deffacts boats\n",
    "  (boat (name \"Ill Wind\")\n",
    "        (type \"sloop\")\n",
    "        (length 15))\n",
    "  (boat (name \"In Debt\")\n",
    "        (type \"ketch\")\n",
    "        (length 38))\n",
    "  (boat (name \"Zephyr IV\")\n",
    "        (type \"sloop\")\n",
    "        (length 44))\n",
    "  (boat (name \"No Wind Needed!\")\n",
    "        (type \"launch\")\n",
    "        (length 19))\n",
    "  (boat (name Wraith)\n",
    "        (type \"sloop\")\n",
    "        (length 31)))\n",
    "\"\"\"\n",
    "env.build(DEFFACT_BOATS)\n",
    "\n",
    "#Create a defrule that prints out matching boats when the knowledge base contains a find fact \n",
    "# and a boat fact that matches the find fact\n",
    "DEFRULE_FIND_BOATS = \"\"\"\n",
    "(defrule find_boat\n",
    "   (find (type ?type) (minlength ?minlength))\n",
    "   (boat (name ?name) (type ?type) (length ?length))\n",
    "   (test (> ?length ?minlength))\n",
    " =>\n",
    "   (println ?name \"  has a length of \" ?length \" ft.\"))\n",
    "\"\"\"\n",
    "env.build(DEFRULE_FIND_BOATS)\n",
    "\n",
    "# reset the environment to load the deffacts\n",
    "env.reset()"
   ]
  },
  {
   "cell_type": "code",
   "execution_count": null,
   "metadata": {},
   "outputs": [],
   "source": [
    "find_template = env.find_template('find')\n",
    "find_fact = find_template.assert_fact(type=\"sloop\", minlength=15)\n",
    "env.run();"
   ]
  },
  {
   "cell_type": "code",
   "execution_count": null,
   "metadata": {},
   "outputs": [],
   "source": [
    "find_fact.retract()\n",
    "print_facts(env)"
   ]
  },
  {
   "cell_type": "code",
   "execution_count": null,
   "metadata": {},
   "outputs": [],
   "source": [
    "find_fact = find_template.assert_fact(type=\"sloop\", minlength=10)\n",
    "env.run();"
   ]
  },
  {
   "cell_type": "code",
   "execution_count": null,
   "metadata": {},
   "outputs": [],
   "source": []
  }
 ],
 "metadata": {
  "kernelspec": {
   "display_name": "bmin5200",
   "language": "python",
   "name": "python3"
  },
  "language_info": {
   "codemirror_mode": {
    "name": "ipython",
    "version": 3
   },
   "file_extension": ".py",
   "mimetype": "text/x-python",
   "name": "python",
   "nbconvert_exporter": "python",
   "pygments_lexer": "ipython3",
   "version": "3.10.12"
  },
  "orig_nbformat": 4
 },
 "nbformat": 4,
 "nbformat_minor": 2
}
