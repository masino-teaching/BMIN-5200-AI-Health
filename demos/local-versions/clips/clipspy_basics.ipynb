{
 "cells": [
  {
   "cell_type": "code",
   "execution_count": null,
   "metadata": {},
   "outputs": [],
   "source": [
    "import clips\n",
    "import sys\n",
    "sys.path.append('../../../src/')\n",
    "from clips_util import print_facts, print_rules, print_templates, build_read_assert"
   ]
  },
  {
   "cell_type": "code",
   "execution_count": null,
   "metadata": {},
   "outputs": [],
   "source": [
    "# create the CLIPS environment\n",
    "env = clips.Environment()"
   ]
  },
  {
   "cell_type": "markdown",
   "metadata": {},
   "source": [
    "# deftemplates and facts\n",
    "\n",
    "deftemplates are used to define the attributes of objects in the CLIPS knowledge base. They are similar to C structures. The deftemplate has a label similar to a Class label and slot definitions similar to Class attributes in Python.\n",
    "\n",
    "facts are used to represent known information in the knowledge base."
   ]
  },
  {
   "cell_type": "code",
   "execution_count": null,
   "metadata": {},
   "outputs": [],
   "source": [
    "# Create a deftemplate that defines the attributes (via slot assignments) of a person\n",
    "# Note the use of SYMBOL types which are different than STRING types. Symbols are allow for \n",
    "# a predefined set of values (e.g. eye_color and hair_color)\n",
    "DEFTEMPLATE_PERSON = \"\"\"\n",
    "(deftemplate person\n",
    "    (slot name (type STRING))\n",
    "    (slot age (type INTEGER))\n",
    "    (slot eye_color (type SYMBOL) (allowed-symbols brown blue green))\n",
    "    (slot hair_color (type SYMBOL) (allowed-symbols brown blonde black red white grey purple))\n",
    ")\n",
    "\"\"\"\n",
    "\n",
    "# Build the template in the CLIPS environment\n",
    "env.build(DEFTEMPLATE_PERSON)"
   ]
  },
  {
   "cell_type": "code",
   "execution_count": null,
   "metadata": {},
   "outputs": [],
   "source": [
    "# currently there are no facts in the knowledge base\n",
    "# but there are templates\n",
    "print_facts(env)\n",
    "print_templates(env)"
   ]
  },
  {
   "cell_type": "code",
   "execution_count": null,
   "metadata": {},
   "outputs": [],
   "source": [
    "# Assert a fact that will be added to the CLIPS Knowledge Base\n",
    "person_template = env.find_template('person')\n",
    "\n",
    "# What happens if you enter an invalid value for eye_color or hair_color?\n",
    "fact_John = person_template.assert_fact(name='John', age=28, \n",
    "                                        eye_color=clips.Symbol('blue'), \n",
    "                                        hair_color=clips.Symbol('brown'))\n",
    "\n",
    "fact_Zoe = person_template.assert_fact(name='Zoe', age=88, \n",
    "                                        eye_color=clips.Symbol('blue'), \n",
    "                                        hair_color=clips.Symbol('grey'))\n",
    "# Display the current facts\n",
    "print_facts(env)"
   ]
  },
  {
   "cell_type": "code",
   "execution_count": null,
   "metadata": {},
   "outputs": [],
   "source": [
    "# we can retract facts\n",
    "fact_Zoe.retract()\n",
    "print_facts(env)"
   ]
  },
  {
   "cell_type": "code",
   "execution_count": null,
   "metadata": {},
   "outputs": [],
   "source": [
    "# resetting the environment removes asserted facts but NOT rules and templates\n",
    "env.reset()\n",
    "print_facts(env)\n",
    "print_templates(env)"
   ]
  },
  {
   "cell_type": "code",
   "execution_count": null,
   "metadata": {},
   "outputs": [],
   "source": [
    "# clearing the environment removes everything \n",
    "env.clear()\n",
    "print_templates(env)"
   ]
  },
  {
   "cell_type": "markdown",
   "metadata": {},
   "source": [
    "# rules"
   ]
  },
  {
   "cell_type": "code",
   "execution_count": null,
   "metadata": {},
   "outputs": [],
   "source": [
    "# make sure the environment is clear\n",
    "env.clear()\n",
    "\n",
    "# define a template for emergency facts\n",
    "DEFTEMPLATE_EMERGENCY = \"\"\"\n",
    "(deftemplate emergency\n",
    "\t\t(slot kind (type STRING))\n",
    "\t\t(slot patient_status (type STRING)))\n",
    "\"\"\"\n",
    "env.build(DEFTEMPLATE_EMERGENCY)\n",
    "\n",
    "# define a rule that prints a statement when there is a an emergency fact with type arrhythmia and patient-status conscious\n",
    "DEFRULE_CARDIAC_EMERGENCY = \"\"\"\n",
    "(defrule cardiac-emergency\n",
    "\t\t(emergency (kind \"arrhythmia\") (patient_status \"conscious\"))\n",
    "=>\n",
    "(println \"Activate the Rapid Response Team \"))\n",
    "\"\"\"\n",
    "env.build(DEFRULE_CARDIAC_EMERGENCY)"
   ]
  },
  {
   "cell_type": "code",
   "execution_count": null,
   "metadata": {},
   "outputs": [],
   "source": [
    "# assert an emergency fact that matches the attributes of a cardiac emergency\n",
    "emergency_template = env.find_template('emergency')\n",
    "fact_cardiac_emergency = emergency_template.assert_fact(kind='arrhythmia', patient_status='conscious')\n",
    "print_facts(env)\n",
    "print_rules(env)"
   ]
  },
  {
   "cell_type": "code",
   "execution_count": null,
   "metadata": {},
   "outputs": [],
   "source": [
    "# run the environment to fire rules if there are any matching facts that trigger rules\n",
    "env.run()"
   ]
  },
  {
   "cell_type": "code",
   "execution_count": null,
   "metadata": {},
   "outputs": [],
   "source": [
    "# note that even though the fact is still in the KB, the rule will not fire again w/out resetting the environment\n",
    "print_facts(env)\n",
    "env.run()"
   ]
  },
  {
   "cell_type": "code",
   "execution_count": null,
   "metadata": {},
   "outputs": [],
   "source": [
    "# build a rule that prompts the user for input and asserts a fact\n",
    "\n",
    "# IPython notebook redirects stdin which prevents using clips \"read\" function to get user input\n",
    "# this function builds a read_assert function for the input clips environment.\n",
    "# The build function, read_assert, uses the Python \"input\" function to read user input and converts string input\n",
    "# to appropriate type. \n",
    "# The prompt_map is a dictionary where keys are of the form template_name:slot_name and values\n",
    "# are the prompts to display to the user when requesting input\n",
    "# Exceptions are handled in try / except block to address input type and allowed value errors\n",
    "# **** see src/clips_util.py for the function definition \n",
    "prompt_map = {\n",
    "    \"emergency:kind\": \"Enter the type of emergency: \",\n",
    "    \"emergency:patient_status\": \"What is the patient status: \"\n",
    "     \n",
    "}\n",
    "build_read_assert(env, prompt_map)\n",
    "\n",
    "DEFRULE_READ_EMERGENCY = \"\"\"\n",
    "(defrule read_emergency\n",
    "; there are no conditions for this rule\n",
    "; so it will always fire\n",
    "    =>\n",
    "    (read_assert emergency)\n",
    ")\n",
    "\"\"\"\n",
    "env.build(DEFRULE_READ_EMERGENCY)\n",
    "\n",
    "env.run()\n",
    "\n",
    "print_facts(env)"
   ]
  },
  {
   "cell_type": "markdown",
   "metadata": {},
   "source": [
    "# deffacts\n",
    "It is often convenient to have facts that are retained in the clips KB when the environment is reset. "
   ]
  },
  {
   "cell_type": "code",
   "execution_count": null,
   "metadata": {},
   "outputs": [],
   "source": [
    "env.clear() # remove everything from the environment for this example\n",
    "\n",
    "DEFTEMPLATE_PERSON = \"\"\"\n",
    "(deftemplate person\n",
    "    \t\t\t(slot name)\n",
    "                (slot age))\n",
    "\"\"\"\n",
    "\n",
    "DEFFACTS_PEOPLE = \"\"\"\n",
    "(deffacts people \"Create people on reset\"\n",
    "    ;person declaration\n",
    "    (person (name \"Jane\") (age 80))\n",
    "    (person (name \"John\") (age 10))\n",
    ")\n",
    "\"\"\"\n",
    "\n",
    "env.build(DEFTEMPLATE_PERSON)\n",
    "env.build(DEFFACTS_PEOPLE)\n",
    "\n",
    "print_facts(env) # no facts until reset\n",
    "\n",
    "# with reset, deffacts take hold\n",
    "env.reset()\n",
    "print_facts(env)\n"
   ]
  },
  {
   "cell_type": "code",
   "execution_count": null,
   "metadata": {},
   "outputs": [],
   "source": []
  }
 ],
 "metadata": {
  "kernelspec": {
   "display_name": "bmin5200",
   "language": "python",
   "name": "python3"
  },
  "language_info": {
   "codemirror_mode": {
    "name": "ipython",
    "version": 3
   },
   "file_extension": ".py",
   "mimetype": "text/x-python",
   "name": "python",
   "nbconvert_exporter": "python",
   "pygments_lexer": "ipython3",
   "version": "3.10.12"
  },
  "orig_nbformat": 4
 },
 "nbformat": 4,
 "nbformat_minor": 2
}
