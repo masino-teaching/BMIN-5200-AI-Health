{
 "cells": [
  {
   "cell_type": "code",
   "execution_count": null,
   "metadata": {},
   "outputs": [],
   "source": [
    "import clips\n",
    "import sys\n",
    "sys.path.append('../../../src/')\n",
    "from clips_util import print_facts, print_rules, print_templates"
   ]
  },
  {
   "cell_type": "markdown",
   "metadata": {},
   "source": [
    "# Boolean Conditional Element\n",
    "\n",
    "In this example, we'll see how to use _boolean conditional element_ operators in CLIPS defrules. These operate the same way as Python conditional operators. The sytnax is as follows - notice the use of surrounding parentheses:\n",
    "\n",
    "```\n",
    "(or (condition_one) (condition_two))\n",
    "\n",
    "(and (condition_one) (condition_two))\n",
    "```"
   ]
  },
  {
   "cell_type": "code",
   "execution_count": null,
   "metadata": {},
   "outputs": [],
   "source": [
    "# create the CLIPS environment\n",
    "env = clips.Environment()"
   ]
  },
  {
   "cell_type": "code",
   "execution_count": null,
   "metadata": {},
   "outputs": [],
   "source": [
    "env.clear()\n",
    "\n",
    "# Create patient template\n",
    "DEFTEMPLATE_PATIENT = \"\"\"\n",
    "(deftemplate patient\n",
    "   (slot name)\n",
    "   (slot abdominal_pain)\n",
    "   (slot nausea)\n",
    "   (slot vomiting)\n",
    "   (slot white_blood_count (type INTEGER)))\n",
    "\"\"\"\n",
    "env.build(DEFTEMPLATE_PATIENT)\n",
    "\n",
    "# create patient facts\n",
    "patient_template = env.find_template('patient')\n",
    "patient1 = patient_template.assert_fact(name = 'John Doe',\n",
    "                                        abdominal_pain = 'yes', \n",
    "                                        nausea = 'yes',\n",
    "                                        vomiting = 'yes',\n",
    "                                        white_blood_count = 5000)\n",
    "patient2 = patient_template.assert_fact(name = 'Jane Doe',\n",
    "                                        abdominal_pain = 'yes',\n",
    "                                        nausea = 'no',\n",
    "                                        vomiting = 'no',\n",
    "                                        white_blood_count = 12000)\n",
    "\n",
    "################# defrules without boolean conditional element #################\n",
    "DEFRULE_DIAGNOSE_1 = \"\"\"\n",
    "(defrule diagnose_1\n",
    "   (patient (abdominal_pain \"yes\")(nausea \"yes\")(vomiting \"yes\")(name ?n))\n",
    " =>\n",
    "   (println \"Rule 1: suspect appendicitis for \" ?n))\n",
    "\"\"\"\n",
    "\n",
    "DEFRULE_DIAGNOSE_2 = \"\"\"\n",
    "(defrule diagnose_2\n",
    "   (patient (abdominal_pain \"yes\") (white_blood_count ?wbc)(name ?n))\n",
    "   (test(>= ?wbc 10000))\n",
    " =>\n",
    "   (println \"Rule 2: suspect appendicitis for \" ?n))\n",
    "\"\"\"\n",
    "env.build(DEFRULE_DIAGNOSE_1)\n",
    "env.build(DEFRULE_DIAGNOSE_2)\n",
    "################################################################################\n",
    "\n",
    "\n",
    "################# defrules with boolean conditional element ####################\n",
    "## To try this version, comment out the rules DEFRULE_DIAGNOSE_1 and DEFRULE_DIAGNOSE_2 above\n",
    "## and uncomment the DEFRULE_DIAGNOSE_3 rule below\n",
    "## Notice the the boolean elements \"and\" and \"or\" used in this version which enables creation of a single rule\n",
    "## that combines DEFRULE_DIAGNOSE_1 and DEFRULE_DIAGNOSE_2\n",
    "# DEFRULE_DIAGNOSE_3 = \"\"\"\n",
    "# (defrule diagnose_3\n",
    "#    (or (patient (abdominal_pain \"yes\") (nausea \"yes\") (vomiting \"yes\") (name ?name))\n",
    "#        (and (patient (abdominal_pain \"yes\") (white_blood_count ?wbc) (name ?name)) \n",
    "#             (test(>= ?wbc 10000))) \n",
    "#    )\n",
    "#  =>\n",
    "#   (println \"Rule 3: suspect appendicitis for \" ?name)\n",
    "# )\n",
    "# \"\"\"\n",
    "\n",
    "# env.build(DEFRULE_DIAGNOSE_3)\n",
    "################################################################################\n",
    "\n",
    "env.run(); # semicolon prevents printing env.run() status code\n"
   ]
  },
  {
   "cell_type": "code",
   "execution_count": null,
   "metadata": {},
   "outputs": [],
   "source": []
  }
 ],
 "metadata": {
  "kernelspec": {
   "display_name": "bmin5200",
   "language": "python",
   "name": "python3"
  },
  "language_info": {
   "codemirror_mode": {
    "name": "ipython",
    "version": 3
   },
   "file_extension": ".py",
   "mimetype": "text/x-python",
   "name": "python",
   "nbconvert_exporter": "python",
   "pygments_lexer": "ipython3",
   "version": "3.10.12"
  },
  "orig_nbformat": 4
 },
 "nbformat": 4,
 "nbformat_minor": 2
}
